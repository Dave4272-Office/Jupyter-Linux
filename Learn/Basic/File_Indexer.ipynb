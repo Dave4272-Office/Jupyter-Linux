{
 "cells": [
  {
   "cell_type": "code",
   "execution_count": 1,
   "metadata": {},
   "outputs": [],
   "source": [
    "import os"
   ]
  },
  {
   "cell_type": "code",
   "execution_count": 2,
   "metadata": {},
   "outputs": [],
   "source": [
    "#Directory to traverse\n",
    "Dir = \".\""
   ]
  },
  {
   "cell_type": "code",
   "execution_count": 3,
   "metadata": {},
   "outputs": [
    {
     "name": "stdout",
     "output_type": "stream",
     "text": [
      "Found directory: .\n",
      "Found directory: ./.ipynb_checkpoints\n",
      "Found directory: ./Project\n",
      "Found directory: ./Project/.ipynb_checkpoints\n",
      "Found directory: ./Project/Image-test\n",
      "Found directory: ./Project/Image-test/Downloaded\n",
      "Found directory: ./Project/Image-test/PNG\n",
      "Found directory: ./Project/PKG\n",
      "Found directory: ./Project/Temp\n",
      "Found directory: ./Project/Temp/.ipynb_checkpoints\n",
      "Found directory: ./Project/Temp/Grey\n",
      "Found directory: ./Project/Temp/Resized\n"
     ]
    }
   ],
   "source": [
    "files = list()\n",
    "for dirName, subdirList, fileList in os.walk(Dir):\n",
    "    print('Found directory: %s' % dirName)\n",
    "    temp = list()\n",
    "    for i in fileList:\n",
    "        temp.append(os.path.join(dirName,i))\n",
    "    files.extend(temp)"
   ]
  },
  {
   "cell_type": "code",
   "execution_count": 4,
   "metadata": {},
   "outputs": [
    {
     "data": {
      "text/plain": [
       "['./File_Indexer.ipynb',\n",
       " './File_Indexer.py',\n",
       " './Linux.ipynb',\n",
       " './.ipynb_checkpoints/File_Indexer-checkpoint.ipynb',\n",
       " './.ipynb_checkpoints/Linux-checkpoint.ipynb',\n",
       " './Project/RGB to Gray-scale.ipynb',\n",
       " './Project/RGB2Gray.py',\n",
       " './Project/.ipynb_checkpoints/RGB to Gray-scale-checkpoint.ipynb',\n",
       " './Project/Image-test/Downloaded/Image01.png',\n",
       " './Project/Image-test/Downloaded/Image02.jpeg',\n",
       " './Project/Image-test/Downloaded/Image03.jpeg',\n",
       " './Project/Image-test/Downloaded/Image04.jpg',\n",
       " './Project/Image-test/Downloaded/Image05.jpg',\n",
       " './Project/Image-test/Downloaded/Image06.webp',\n",
       " './Project/Image-test/PNG/Image01.png',\n",
       " './Project/Image-test/PNG/Image02.png',\n",
       " './Project/Image-test/PNG/Image03.png',\n",
       " './Project/Image-test/PNG/Image04.png',\n",
       " './Project/Image-test/PNG/Image05.png',\n",
       " './Project/Image-test/PNG/Image06.png',\n",
       " './Project/PKG/__init__.py']"
      ]
     },
     "execution_count": 4,
     "metadata": {},
     "output_type": "execute_result"
    }
   ],
   "source": [
    "files"
   ]
  },
  {
   "cell_type": "code",
   "execution_count": 5,
   "metadata": {},
   "outputs": [],
   "source": [
    "files2 = list()\n",
    "for i in files:\n",
    "    _,e = os.path.splitext(i)\n",
    "    if e == '.png':\n",
    "        files2.append(i)"
   ]
  },
  {
   "cell_type": "code",
   "execution_count": 6,
   "metadata": {},
   "outputs": [
    {
     "data": {
      "text/plain": [
       "['./Project/Image-test/Downloaded/Image01.png',\n",
       " './Project/Image-test/PNG/Image01.png',\n",
       " './Project/Image-test/PNG/Image02.png',\n",
       " './Project/Image-test/PNG/Image03.png',\n",
       " './Project/Image-test/PNG/Image04.png',\n",
       " './Project/Image-test/PNG/Image05.png',\n",
       " './Project/Image-test/PNG/Image06.png']"
      ]
     },
     "execution_count": 6,
     "metadata": {},
     "output_type": "execute_result"
    }
   ],
   "source": [
    "files2"
   ]
  },
  {
   "cell_type": "code",
   "execution_count": null,
   "metadata": {},
   "outputs": [],
   "source": []
  }
 ],
 "metadata": {
  "kernelspec": {
   "display_name": "Python 3",
   "language": "python",
   "name": "python3"
  },
  "language_info": {
   "codemirror_mode": {
    "name": "ipython",
    "version": 3
   },
   "file_extension": ".py",
   "mimetype": "text/x-python",
   "name": "python",
   "nbconvert_exporter": "python",
   "pygments_lexer": "ipython3",
   "version": "3.7.4"
  }
 },
 "nbformat": 4,
 "nbformat_minor": 2
}
