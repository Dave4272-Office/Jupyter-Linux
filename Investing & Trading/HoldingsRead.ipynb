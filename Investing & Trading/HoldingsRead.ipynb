{
 "cells": [
  {
   "cell_type": "markdown",
   "id": "e20197d2-c44a-4b08-be86-d9dbc3abcbd1",
   "metadata": {},
   "source": [
    "# Holdings List from csv export"
   ]
  },
  {
   "cell_type": "code",
   "execution_count": 1,
   "id": "0dddebaf-31b9-4d26-a756-e243b27aa4a4",
   "metadata": {
    "tags": []
   },
   "outputs": [],
   "source": [
    "import pandas as pd\n",
    "import yfinance as yf\n",
    "import yahooquery as yq"
   ]
  },
  {
   "cell_type": "code",
   "execution_count": 2,
   "id": "ba0c2bcb-719f-40b2-a046-33b97325ab80",
   "metadata": {
    "tags": []
   },
   "outputs": [],
   "source": [
    "holdings = pd.read_csv('holdings.csv')"
   ]
  },
  {
   "cell_type": "code",
   "execution_count": 3,
   "id": "4cb7c9ae-c669-4def-ad79-928ce4238a1d",
   "metadata": {},
   "outputs": [],
   "source": [
    "holdings = holdings[[\"Instrument\", \"Qty.\", \"Avg. cost\"]]"
   ]
  },
  {
   "cell_type": "code",
   "execution_count": 4,
   "id": "98a5778e",
   "metadata": {},
   "outputs": [],
   "source": [
    "symbols = holdings[\"Instrument\"].to_list()\n",
    "symbols = [ x if x.find(\"-\") == -1 else x[:x.find(\"-\")] for x in symbols]"
   ]
  },
  {
   "cell_type": "code",
   "execution_count": 5,
   "id": "2b968fcc",
   "metadata": {},
   "outputs": [],
   "source": [
    "def yfinance_equity_type(symbols: list[str]) -> (pd.Series, pd.Series):\n",
    "    symbol = []\n",
    "    eqtype = []\n",
    "    for ticker in symbols:\n",
    "        try:\n",
    "            t = ticker + \".NS\"\n",
    "            data = yf.Ticker(t)\n",
    "            if str(data.info[\"longName\"]).find(\"ETF\") != -1 or str(data.info[\"longName\"]).find(\"Exchange Traded Fund\") != -1:\n",
    "                eqtype.append(\"ETF\")\n",
    "                symbol.append(t)\n",
    "                continue\n",
    "            eqtype.append(\"EQ\")\n",
    "            symbol.append(t)\n",
    "        except:\n",
    "            try:\n",
    "                t = ticker + \".BO\"\n",
    "                data = yf.Ticker(t)\n",
    "                data.info\n",
    "                eqtype.append(\"EQ\")\n",
    "                symbol.append(t)\n",
    "            except:\n",
    "                eqtype.append(\"NF\")\n",
    "                symbol.append(ticker)\n",
    "    return (pd.Series(eqtype, name=\"Type\"), pd.Series(symbol, name=\"Symbol\"))\n",
    "\n",
    "def yahooquery_equity_type(symbols: list[str]) -> pd.Series:\n",
    "    eqtype = []\n",
    "    for ticker in symbols:\n",
    "        try:\n",
    "            t = ticker + \".NS\"\n",
    "            data = yq.Ticker(t)\n",
    "            if type(data.summary_detail[t]) != type(\"xyz\"):\n",
    "                if type(data.all_financial_data()) == type(\"xyz\") and str(data.all_financial_data()).find(\"data unavailable\") != -1:\n",
    "                    eqtype.append(\"ETF\")\n",
    "                    continue\n",
    "                eqtype.append(\"EQ\")\n",
    "            else:\n",
    "                t = ticker + \".BO\"\n",
    "                data = yq.Ticker(t)\n",
    "                if type(data.summary_detail[t]) != type(\"xyz\"):\n",
    "                    eqtype.append(\"EQ\")\n",
    "                else:\n",
    "                    raise Exception(\"check again\")\n",
    "        except:\n",
    "            eqtype.append(\"NF\")\n",
    "    return pd.Series(eqtype, name=\"Type\")"
   ]
  },
  {
   "cell_type": "code",
   "execution_count": 6,
   "id": "e9b9b023",
   "metadata": {},
   "outputs": [],
   "source": [
    "df = pd.DataFrame()\n",
    "yet = yfinance_equity_type(symbols)\n",
    "df[\"yfinance\"] = yet[0]\n",
    "df[\"Symbol\"] = yet[1]\n",
    "df[\"yahooquery\"] = yahooquery_equity_type(symbols).copy()"
   ]
  },
  {
   "cell_type": "code",
   "execution_count": 7,
   "id": "57f455d0",
   "metadata": {},
   "outputs": [],
   "source": [
    "maskeq = (df[\"yfinance\"] == \"EQ\") & (df[\"yahooquery\"] == \"EQ\")\n",
    "masketf = (df[\"yfinance\"] == \"ETF\") & (df[\"yahooquery\"] == \"ETF\")\n",
    "maskconf =  ((df[\"yfinance\"] == \"ETF\") & (df[\"yahooquery\"] != \"ETF\")) | (df[\"yfinance\"] == \"EQ\") & (df[\"yahooquery\"] != \"EQ\") | ((df[\"yfinance\"] == \"NF\") & (df[\"yahooquery\"] == \"NF\"))"
   ]
  },
  {
   "cell_type": "code",
   "execution_count": 8,
   "id": "b522bacd",
   "metadata": {},
   "outputs": [],
   "source": [
    "df.loc[maskeq, [\"Type\"]] = \"EQ\"\n",
    "df.loc[masketf, [\"Type\"]] = \"ETF\"\n",
    "df.loc[maskconf, [\"Type\"]] = \"\""
   ]
  },
  {
   "cell_type": "code",
   "execution_count": 9,
   "id": "c303a059",
   "metadata": {},
   "outputs": [],
   "source": [
    "holdings[[\"Symbol\",\"yfType\",\"yqType\",\"Type\"]] = df[[\"Symbol\",\"yfinance\",\"yahooquery\",\"Type\"]]"
   ]
  },
  {
   "cell_type": "code",
   "execution_count": 10,
   "id": "23326bad",
   "metadata": {},
   "outputs": [],
   "source": [
    "holdings.index.set_names(\"Sl. No.\", inplace=True)"
   ]
  },
  {
   "cell_type": "code",
   "execution_count": 11,
   "id": "25a053a3",
   "metadata": {},
   "outputs": [],
   "source": [
    "holdings.to_csv(\"holdtyped.csv\")"
   ]
  },
  {
   "cell_type": "code",
   "execution_count": null,
   "id": "abde0a20",
   "metadata": {},
   "outputs": [],
   "source": []
  }
 ],
 "metadata": {
  "kernelspec": {
   "display_name": "Python 3 (ipykernel)",
   "language": "python",
   "name": "python3"
  },
  "language_info": {
   "codemirror_mode": {
    "name": "ipython",
    "version": 3
   },
   "file_extension": ".py",
   "mimetype": "text/x-python",
   "name": "python",
   "nbconvert_exporter": "python",
   "pygments_lexer": "ipython3",
   "version": "3.11.4"
  }
 },
 "nbformat": 4,
 "nbformat_minor": 5
}
